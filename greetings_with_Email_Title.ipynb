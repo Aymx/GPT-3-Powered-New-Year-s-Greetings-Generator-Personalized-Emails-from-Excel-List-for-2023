{
 "cells": [
  {
   "cell_type": "code",
   "execution_count": 8,
   "metadata": {},
   "outputs": [],
   "source": [
    "# \"This Python code reads data from an Excel file, including names of business partners and friends, \n",
    "# things to mention, language, and tone. It then uses this information to generate personalized New Year's \n",
    "# greetings emails for 2023, with a customizable language and tone. The code also creates a title for the email.\n",
    "# It uses the OpenAI text-davinci-003 engine\n",
    "# It reads the data from the attached file list.xlsx and writes the output to list_reply.xlsx\n",
    "\n",
    "\n",
    "\n",
    "import openai\n",
    "import pandas as pd\n",
    "\n",
    "# Replace YOUR_API_KEY with your actual API key for the GPT-3 API\n",
    "openai.api_key = \"YOUR_API_KEY\"\n",
    "\n",
    "# Use GPT-3 to generate a thank you message\n",
    "def generate_email_message(prompt):\n",
    "    # Add the following line\n",
    "    model_engine = \"text-davinci-003\"\n",
    "    prompt = (f\"{prompt}\"\n",
    "             )\n",
    "\n",
    "    completions = openai.Completion.create(\n",
    "        engine=model_engine,\n",
    "        prompt=prompt,\n",
    "        max_tokens=1024,\n",
    "        n=1,\n",
    "        stop=None,\n",
    "        temperature=0.7,\n",
    "    )\n",
    "\n",
    "    message = completions.choices[0].text\n",
    "    return message\n",
    "\n",
    "# Read the Excel file\n",
    "df = pd.read_excel(\"list.xlsx\")\n",
    "\n",
    "\n",
    "# Add 'email_message' column to the dataframe\n",
    "df['email_message'] = None\n",
    "\n",
    "# Iterate through each row in the dataframe\n",
    "for index, row in df.iterrows():\n",
    "    name = row[\"name\"]\n",
    "    things_to_mention = row[\"things_to_mention\"]\n",
    "    language = row[\"language\"]\n",
    "    tone = row[\"tone\"]\n",
    "        \n",
    "    # Generate the thank you message\n",
    "    prompt = (f\"Write a greeting Email for 2023 to {name}. Don't forget to mention {things_to_mention} in the message. The language of the message should be written in {language}. The tone of the message should be {tone}. At the end of the Email, sign it with my name (Max Mustermann).\"\n",
    "             )\n",
    "    message = generate_email_message(prompt)\n",
    "\n",
    "    # Update the email_message column with the generated message\n",
    "    df.at[index, \"email_message\"] = message\n",
    "\n",
    "    # Generate the Title for the Email\n",
    "    email_message = row[\"email_message\"]\n",
    "    prompt = (f\"Write a title for an Email like (Happy New Year 2023) or something similar and you can mention things from the following text, the language of the title should be written in {language}: {email_message}\"\n",
    "             )\n",
    "    message = generate_email_message(prompt)\n",
    "\n",
    "    # Update the email_message column with the generated message\n",
    "    df.at[index, \"email_title\"] = message\n",
    "\n",
    "# Save the updated dataframe to the Excel file\n",
    "df.to_excel(\"list_reply.xlsx\", index=False)"
   ]
  }
 ],
 "metadata": {
  "kernelspec": {
   "display_name": "Python 3",
   "language": "python",
   "name": "python3"
  },
  "language_info": {
   "codemirror_mode": {
    "name": "ipython",
    "version": 3
   },
   "file_extension": ".py",
   "mimetype": "text/x-python",
   "name": "python",
   "nbconvert_exporter": "python",
   "pygments_lexer": "ipython3",
   "version": "3.10.9 (tags/v3.10.9:1dd9be6, Dec  6 2022, 20:01:21) [MSC v.1934 64 bit (AMD64)]"
  },
  "orig_nbformat": 4,
  "vscode": {
   "interpreter": {
    "hash": "121b0d8ab39e31559758478bf6333a895a34b5544e34af34f32724786395540e"
   }
  }
 },
 "nbformat": 4,
 "nbformat_minor": 2
}
